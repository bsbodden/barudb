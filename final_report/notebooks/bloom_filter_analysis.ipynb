{
 "cells": [
  {
   "cell_type": "markdown",
   "metadata": {},
   "source": [
    "# Bloom Filter Performance Analysis\n",
    "\n",
    "This notebook analyzes the performance of different Bloom filter implementations in our LSM tree.\n",
    "\n",
    "## Setup"
   ]
  },
  {
   "cell_type": "code",
   "execution_count": null,
   "metadata": {},
   "source": [
    "import pandas as pd\n",
    "import numpy as np\n",
    "import matplotlib.pyplot as plt\n",
    "import seaborn as sns\n",
    "import os\n",
    "\n",
    "# Configure plot styles\n",
    "plt.style.use('seaborn-v0_8-whitegrid')\n",
    "sns.set_palette('deep')\n",
    "plt.rcParams['figure.figsize'] = [12, 8]\n",
    "plt.rcParams['font.size'] = 12"
   ]
  },
  {
   "cell_type": "markdown",
   "metadata": {},
   "source": [
    "## Load Benchmark Data"
   ]
  },
  {
   "cell_type": "code",
   "execution_count": null,
   "metadata": {},
   "source": [
    "# Load the latest benchmark results\n",
    "benchmark_file = '../benchmarks/bloom_bench_results_latest.csv'\n",
    "df = pd.read_csv(benchmark_file)\n",
    "\n",
    "# Display the first few rows\n",
    "df.head()"
   ]
  },
  {
   "cell_type": "markdown",
   "metadata": {},
   "source": [
    "## Prepare Data for Analysis"
   ]
  },
  {
   "cell_type": "code",
   "execution_count": null,
   "metadata": {},
   "source": [
    "# Extract the operation type from the Implementation column\n",
    "df['Operation'] = df['Implementation'].str.split('_').str[-1]\n",
    "df['Implementation'] = df['Implementation'].str.split('_').str[0]\n",
    "\n",
    "# Create a more readable version of the implementation names\n",
    "implementation_mapping = {\n",
    "    'bloom': 'Custom Bloom',\n",
    "    'speeddb': 'SpeedDB Bloom',\n",
    "    'rocksdb': 'RocksDB Bloom',\n",
    "    'fastbloom': 'FastBloom'\n",
    "}\n",
    "df['Implementation'] = df['Implementation'].map(implementation_mapping)\n",
    "\n",
    "# Create a more readable version of the operation names\n",
    "operation_mapping = {\n",
    "    'insert': 'Insert',\n",
    "    'lookup': 'Lookup',\n",
    "    'fp': 'False Positive',\n",
    "    'insert': 'Insert',\n",
    "    'batch': 'Batch',\n",
    "    'concurrent': 'Concurrent'\n",
    "}\n",
    "df['Operation'] = df['Operation'].map(operation_mapping)\n",
    "\n",
    "# Group the operations into categories\n",
    "df['Category'] = 'Standard'\n",
    "df.loc[df['Operation'].str.contains('Batch'), 'Category'] = 'Batch'\n",
    "df.loc[df['Operation'].str.contains('Concurrent'), 'Category'] = 'Concurrent'\n",
    "\n",
    "# Display the processed data\n",
    "df.head()"
   ]
  },
  {
   "cell_type": "markdown",
   "metadata": {},
   "source": [
    "## Performance Comparison - Basic Operations"
   ]
  },
  {
   "cell_type": "code",
   "execution_count": null,
   "metadata": {},
   "source": [
    "# Filter for standard operations only (no batch/concurrent operations)\n",
    "standard_ops = df[df['Category'] == 'Standard']\n",
    "\n",
    "# Create a bar chart for standard operations\n",
    "plt.figure(figsize=(14, 10))\n",
    "sns.barplot(x='Implementation', y='Time_ns', hue='Operation', data=standard_ops)\n",
    "plt.title('Performance Comparison of Bloom Filter Implementations', fontsize=16)\n",
    "plt.xlabel('Implementation', fontsize=14)\n",
    "plt.ylabel('Time per Operation (ns)', fontsize=14)\n",
    "plt.xticks(fontsize=12)\n",
    "plt.yticks(fontsize=12)\n",
    "plt.legend(title='Operation', fontsize=12, title_fontsize=14)\n",
    "plt.grid(axis='y', linestyle='--', alpha=0.7)\n",
    "\n",
    "# Add values on top of the bars\n",
    "for i, p in enumerate(plt.gca().patches):\n",
    "    plt.gca().annotate(f'{p.get_height():.1f}', \n",
    "                        (p.get_x() + p.get_width() / 2., p.get_height()), \n",
    "                        ha = 'center', va = 'bottom', \n",
    "                        xytext = (0, 5), textcoords = 'offset points')\n",
    "\n",
    "plt.tight_layout()\n",
    "plt.savefig('../benchmarks/bloom_filter_standard_comparison.png', dpi=300, bbox_inches='tight')\n",
    "plt.show()"
   ]
  },
  {
   "cell_type": "markdown",
   "metadata": {},
   "source": [
    "## Batch Operations Performance"
   ]
  },
  {
   "cell_type": "code",
   "execution_count": null,
   "metadata": {},
   "source": [
    "# Filter for our custom Bloom filter implementation to compare standard vs batch operations\n",
    "custom_bloom = df[df['Implementation'] == 'Custom Bloom']\n",
    "\n",
    "# Create groupings for the plot\n",
    "custom_bloom['OpGroup'] = custom_bloom['Operation']\n",
    "custom_bloom.loc[custom_bloom['Operation'] == 'Insert', 'OpGroup'] = 'Insert'\n",
    "custom_bloom.loc[custom_bloom['Operation'] == 'Batch', 'OpGroup'] = 'Insert (Batch)'\n",
    "custom_bloom.loc[custom_bloom['Operation'] == 'Concurrent', 'OpGroup'] = 'Insert (Concurrent)'\n",
    "custom_bloom.loc[custom_bloom['Operation'] == 'Lookup', 'OpGroup'] = 'Lookup'\n",
    "custom_bloom.loc[custom_bloom['Operation'] == 'Lookup Batch', 'OpGroup'] = 'Lookup (Batch)'\n",
    "custom_bloom.loc[custom_bloom['Operation'] == 'False Positive', 'OpGroup'] = 'FP Test'\n",
    "custom_bloom.loc[custom_bloom['Operation'] == 'False Positive Batch', 'OpGroup'] = 'FP Test (Batch)'\n",
    "\n",
    "# Create a bar chart comparing standard, batch, and concurrent operations\n",
    "plt.figure(figsize=(14, 8))\n",
    "sns.barplot(x='OpGroup', y='Time_ns', data=custom_bloom)\n",
    "plt.title('Effect of Batch Operations on Bloom Filter Performance', fontsize=16)\n",
    "plt.xlabel('Operation Type', fontsize=14)\n",
    "plt.ylabel('Time per Operation (ns)', fontsize=14)\n",
    "plt.xticks(fontsize=12)\n",
    "plt.yticks(fontsize=12)\n",
    "plt.grid(axis='y', linestyle='--', alpha=0.7)\n",
    "\n",
    "# Add values on top of the bars\n",
    "for i, p in enumerate(plt.gca().patches):\n",
    "    plt.gca().annotate(f'{p.get_height():.1f}', \n",
    "                        (p.get_x() + p.get_width() / 2., p.get_height()), \n",
    "                        ha = 'center', va = 'bottom', \n",
    "                        xytext = (0, 5), textcoords = 'offset points')\n",
    "\n",
    "plt.tight_layout()\n",
    "plt.savefig('../benchmarks/bloom_filter_batch_comparison.png', dpi=300, bbox_inches='tight')\n",
    "plt.show()"
   ]
  },
  {
   "cell_type": "markdown",
   "metadata": {},
   "source": [
    "## Performance Improvement from Batching"
   ]
  },
  {
   "cell_type": "code",
   "execution_count": null,
   "metadata": {},
   "source": [
    "# Calculate speedup factor for each operation type\n",
    "# First, create a reference dataframe with standard operations\n",
    "standard_ops_ref = custom_bloom[custom_bloom['Category'] == 'Standard'].copy()\n",
    "standard_ops_ref = standard_ops_ref[['Operation', 'Time_ns']].rename(columns={'Time_ns': 'Standard_Time_ns'})\n",
    "\n",
    "# Map batch operations to their standard counterparts\n",
    "batch_mapping = {\n",
    "    'Batch': 'Insert',\n",
    "    'Concurrent': 'Insert',\n",
    "    'Lookup Batch': 'Lookup',\n",
    "    'False Positive Batch': 'False Positive'\n",
    "}\n",
    "\n",
    "# Calculate speedup for batch operations\n",
    "batch_ops = custom_bloom[custom_bloom['Category'] != 'Standard'].copy()\n",
    "batch_ops['Standard_Op'] = batch_ops['Operation'].map(batch_mapping)\n",
    "batch_ops = pd.merge(batch_ops, standard_ops_ref, left_on='Standard_Op', right_on='Operation', suffixes=('', '_std'))\n",
    "batch_ops['Speedup'] = batch_ops['Standard_Time_ns'] / batch_ops['Time_ns']\n",
    "batch_ops['Improvement'] = (batch_ops['Speedup'] - 1) * 100\n",
    "\n",
    "# Create a bar chart showing speedup factors\n",
    "plt.figure(figsize=(12, 8))\n",
    "sns.barplot(x='Operation', y='Improvement', data=batch_ops)\n",
    "plt.title('Performance Improvement from Batched Operations', fontsize=16)\n",
    "plt.xlabel('Operation Type', fontsize=14)\n",
    "plt.ylabel('Improvement (%)', fontsize=14)\n",
    "plt.axhline(y=0, color='r', linestyle='--')\n",
    "plt.xticks(fontsize=12)\n",
    "plt.yticks(fontsize=12)\n",
    "plt.grid(axis='y', linestyle='--', alpha=0.7)\n",
    "\n",
    "# Add values on top of the bars\n",
    "for i, p in enumerate(plt.gca().patches):\n",
    "    plt.gca().annotate(f'{p.get_height():.1f}%', \n",
    "                        (p.get_x() + p.get_width() / 2., p.get_height()), \n",
    "                        ha = 'center', va = 'bottom', \n",
    "                        xytext = (0, 5), textcoords = 'offset points')\n",
    "\n",
    "plt.tight_layout()\n",
    "plt.savefig('../benchmarks/bloom_filter_improvement.png', dpi=300, bbox_inches='tight')\n",
    "plt.show()"
   ]
  },
  {
   "cell_type": "markdown",
   "metadata": {},
   "source": [
    "## Performance Comparison with FastBloom"
   ]
  },
  {
   "cell_type": "code",
   "execution_count": null,
   "metadata": {},
   "source": [
    "# Filter data for comparison with FastBloom\n",
    "fastbloom_comparison = standard_ops[standard_ops['Implementation'].isin(['Custom Bloom', 'FastBloom'])].copy()\n",
    "\n",
    "# Create a reference frame with FastBloom times\n",
    "fastbloom_ref = fastbloom_comparison[fastbloom_comparison['Implementation'] == 'FastBloom'][['Operation', 'Time_ns']].rename(columns={'Time_ns': 'FastBloom_Time_ns'})\n",
    "\n",
    "# Calculate relative performance\n",
    "comparison = pd.merge(fastbloom_comparison[fastbloom_comparison['Implementation'] == 'Custom Bloom'], fastbloom_ref, on='Operation')\n",
    "comparison['Relative_Performance'] = (comparison['FastBloom_Time_ns'] / comparison['Time_ns'] - 1) * 100\n",
    "\n",
    "# Create a bar chart for the comparison\n",
    "plt.figure(figsize=(10, 8))\n",
    "plt.bar(comparison['Operation'], comparison['Relative_Performance'], color=sns.color_palette('deep')[0])\n",
    "plt.axhline(y=0, color='r', linestyle='--')\n",
    "plt.title('Custom Bloom Filter Performance Relative to FastBloom', fontsize=16)\n",
    "plt.xlabel('Operation Type', fontsize=14)\n",
    "plt.ylabel('Relative Performance (%)', fontsize=14)\n",
    "plt.xticks(fontsize=12)\n",
    "plt.yticks(fontsize=12)\n",
    "plt.grid(axis='y', linestyle='--', alpha=0.7)\n",
    "\n",
    "# Add values on top of the bars\n",
    "for i, v in enumerate(comparison['Relative_Performance']):\n",
    "    label = f'{v:.1f}%' if v >= 0 else f'{v:.1f}%'\n",
    "    color = 'green' if v >= 0 else 'red'\n",
    "    plt.annotate(label,\n",
    "                 (i, v),\n",
    "                 textcoords=\"offset points\",\n",
    "                 xytext=(0, 5 if v >= 0 else -15),\n",
    "                 ha='center',\n",
    "                 color=color,\n",
    "                 fontweight='bold')\n",
    "\n",
    "plt.tight_layout()\n",
    "plt.savefig('../benchmarks/bloom_filter_vs_fastbloom.png', dpi=300, bbox_inches='tight')\n",
    "plt.show()"
   ]
  },
  {
   "cell_type": "markdown",
   "metadata": {},
   "source": [
    "## Table of Results"
   ]
  },
  {
   "cell_type": "code",
   "execution_count": null,
   "metadata": {},
   "source": [
    "# Create a summary table\n",
    "summary = standard_ops.pivot_table(values='Time_ns', index='Implementation', columns='Operation')\n",
    "\n",
    "# Calculate relative performance to Custom Bloom\n",
    "reference = summary.loc['Custom Bloom']\n",
    "relative = summary.div(reference) * 100 - 100\n",
    "\n",
    "# Format for the report\n",
    "summary_formatted = summary.round(2).reset_index()\n",
    "relative_formatted = relative.round(2).reset_index()\n",
    "\n",
    "# Display and save\n",
    "print(\"Absolute Performance (ns per operation):\")\n",
    "display(summary_formatted)\n",
    "summary_formatted.to_csv('../benchmarks/bloom_filter_summary_absolute.csv', index=False)\n",
    "\n",
    "print(\"\\nRelative Performance (% compared to Custom Bloom):\")\n",
    "display(relative_formatted)\n",
    "relative_formatted.to_csv('../benchmarks/bloom_filter_summary_relative.csv', index=False)"
   ]
  },
  {
   "cell_type": "markdown",
   "metadata": {},
   "source": [
    "## Summary Statistics for the Report"
   ]
  },
  {
   "cell_type": "code",
   "execution_count": null,
   "metadata": {},
   "source": [
    "# Calculate key performance statistics\n",
    "batch_speedup = batch_ops['Speedup'].mean()\n",
    "batch_improvement = batch_ops['Improvement'].mean()\n",
    "concurrent_speedup = batch_ops[batch_ops['Operation'] == 'Concurrent']['Speedup'].values[0]\n",
    "concurrent_improvement = batch_ops[batch_ops['Operation'] == 'Concurrent']['Improvement'].values[0]\n",
    "vs_fastbloom_insert = comparison[comparison['Operation'] == 'Insert']['Relative_Performance'].values[0]\n",
    "vs_fastbloom_lookup = comparison[comparison['Operation'] == 'Lookup']['Relative_Performance'].values[0]\n",
    "\n",
    "# Print summary statistics for the report\n",
    "print(f\"Average speedup from batch operations: {batch_speedup:.2f}x ({batch_improvement:.1f}% improvement)\")\n",
    "print(f\"Concurrent batch insert speedup: {concurrent_speedup:.2f}x ({concurrent_improvement:.1f}% improvement)\")\n",
    "print(f\"Custom Bloom vs FastBloom insert: {vs_fastbloom_insert:.1f}% {'faster' if vs_fastbloom_insert > 0 else 'slower'}\")\n",
    "print(f\"Custom Bloom vs FastBloom lookup: {vs_fastbloom_lookup:.1f}% {'faster' if vs_fastbloom_lookup > 0 else 'slower'}\")\n",
    "\n",
    "# Generate summary chart data for the report\n",
    "summary_data = {\n",
    "    \"Metric\": [\n",
    "        \"Average Batch Speedup\",\n",
    "        \"Concurrent Insert Speedup\",\n",
    "        \"Insert vs FastBloom\",\n",
    "        \"Lookup vs FastBloom\"\n",
    "    ],\n",
    "    \"Value\": [\n",
    "        f\"{batch_speedup:.2f}x\",\n",
    "        f\"{concurrent_speedup:.2f}x\",\n",
    "        f\"{vs_fastbloom_insert:.1f}%\",\n",
    "        f\"{vs_fastbloom_lookup:.1f}%\"\n",
    "    ]\n",
    "}\n",
    "\n",
    "summary_df = pd.DataFrame(summary_data)\n",
    "summary_df.to_csv('../benchmarks/bloom_filter_key_stats.csv', index=False)\n",
    "display(summary_df)"
   ]
  }
 ],
 "metadata": {
  "kernelspec": {
   "display_name": "Python 3",
   "language": "python",
   "name": "python3"
  },
  "language_info": {
   "codemirror_mode": {
    "name": "ipython",
    "version": 3
   },
   "file_extension": ".py",
   "mimetype": "text/x-python",
   "name": "python",
   "nbconvert_exporter": "python",
   "pygments_lexer": "ipython3",
   "version": "3.8.10"
  }
 },
 "nbformat": 4,
 "nbformat_minor": 4
}